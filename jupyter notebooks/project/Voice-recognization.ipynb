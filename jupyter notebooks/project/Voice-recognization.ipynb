{
 "cells": [
  {
   "cell_type": "code",
   "execution_count": 2,
   "id": "7806ab24",
   "metadata": {},
   "outputs": [],
   "source": [
    "import speech_recognition as sr"
   ]
  },
  {
   "cell_type": "markdown",
   "id": "93497213",
   "metadata": {},
   "source": [
    "Api doc : https://realpython.com/python-speech-recognition/\n",
    "Find some voice to download : http://www.voiptroubleshooter.com/open_speech/french/OSR_fr_000_0041_8k.wav\n",
    "Test Record contain : \n",
    "- SoundTest.wav : Clean voice english\n",
    "- FrenchTest.wav : Clean voice french\n",
    "- NoiseTest.wav : Noise voice\n",
    "\n",
    "\n",
    "Install packages\n",
    "- speech_recognition\n",
    "- portaudio\n",
    "- pyaudio"
   ]
  },
  {
   "cell_type": "code",
   "execution_count": 29,
   "id": "44e01e3e",
   "metadata": {},
   "outputs": [
    {
     "name": "stdout",
     "output_type": "stream",
     "text": [
      "smell your fingers\n",
      "Result :  smell your fingers\n"
     ]
    }
   ],
   "source": [
    "## get audio from from the upload file ##\n",
    "r = sr.Recognizer()\n",
    "# listen audio\n",
    "voiceFile = sr.AudioFile('/Users/Fabrice/Desktop/Epitech/AIA/Audio/NoiseTest.wav')\n",
    "with voiceFile as source:\n",
    "    r.adjust_for_ambient_noise(source, duration=0.5) # -> remove noise\n",
    "    audio = r.record(source)\n",
    "    \n",
    "    test = r.recognize_google(audio)\n",
    "    print(test)\n",
    "# convert audio to text use google recognization api\n",
    "try:\n",
    "    # r.recognize_google(audio, language='fr-FR')\n",
    "    # r.recognize_google(audio,show_all=True) -> display array of trad proposition\n",
    "    txt = r.recognize_google(audio) #default language is en and not need to be specified\n",
    "    print(\"Result : \",txt)\n",
    "except sr.UnkownValueError:\n",
    "    print(\"Couldn't understand audio\")\n",
    "except sr.RequestError as e:\n",
    "    print(\"Error return {0}\".format(e))\n"
   ]
  },
  {
   "cell_type": "code",
   "execution_count": 36,
   "id": "99fb5cce",
   "metadata": {},
   "outputs": [
    {
     "name": "stdout",
     "output_type": "stream",
     "text": [
      "You can speak --\n",
      "x :  hello my name is fabulous\n"
     ]
    }
   ],
   "source": [
    "## get audio from from the microphone ##\n",
    "r = sr.Recognizer()\n",
    "mic = sr.Microphone()\n",
    "with mic as source:\n",
    "    print(\"You can speak --\")\n",
    "    audio = r.listen(source)\n",
    "    test = r.recognize_google(audio)\n",
    "    print(\"Votre test : \",test)"
   ]
  },
  {
   "cell_type": "code",
   "execution_count": null,
   "id": "688eaecb",
   "metadata": {},
   "outputs": [
    {
     "name": "stdout",
     "output_type": "stream",
     "text": [
      "--Welcome to speech to text--\n",
      "Your need to complete some field before start\n",
      "Choose language : \n",
      " 1-French \n",
      " 2-English\n"
     ]
    }
   ],
   "source": [
    "# path : /Users/Fabrice/Desktop/Epitech/AIA/Audio/FrenchTest.wav\n",
    "# path : /Users/Fabrice/Desktop/Epitech/AIA/Audio/SoundTest.wav\n",
    "def speechToText():\n",
    "    r = sr.Recognizer()\n",
    "    mic = sr.Microphone()\n",
    "    \n",
    "    path = \"\"\n",
    "    print(\"--Welcome to speech to text--\")\n",
    "    print(\"Your need to complete some field before start\")\n",
    "    print(\"Choose language : \\n 1-French \\n 2-English\")\n",
    "    langue = int(input(\"Enter your choice -> \"))\n",
    "        \n",
    "    print(\"\\nThanks one more step\")\n",
    "    print(\"Choose your methode : \\n 1-Upload file \\n 2-Use microphone\")\n",
    "    audioMetho = int(input(\"Enter your choice -> \"))\n",
    "    if(audioMetho == 1):\n",
    "        path = str(input(\"Enter your voice path -> \"))\n",
    "\n",
    "    \n",
    "   \n",
    "    \n",
    "    # audioMetho == 1 -> upload file || langue != 1 -> microphone\n",
    "    if(audioMetho == 1):\n",
    "        # listen audio\n",
    "        if(path != \"\"):\n",
    "            voiceFile = sr.AudioFile(path)\n",
    "            with voiceFile as source:\n",
    "                r.adjust_for_ambient_noise(source, duration=0.5) # -> remove noise\n",
    "                audio = r.record(source)\n",
    "        else:\n",
    "            print('You did not write path')\n",
    "    else:\n",
    "        with mic as source:\n",
    "            print(\"We are listen you can speak\")\n",
    "            r.adjust_for_ambient_noise(source, duration=0.5) \n",
    "            audio = r.listen(source)\n",
    "    \n",
    "    \n",
    "    try:\n",
    "        # langue == '1' -> french || langue == '2' -> english\n",
    "        txt = r.recognize_google(audio, language='fr-FR') if langue == 1 else r.recognize_google(audio)\n",
    "        print(\"\\nResult : \",txt)\n",
    "    except sr.UnkownValueError:\n",
    "        print(\"Couldn't understand audio\")\n",
    "    except sr.RequestError as e:\n",
    "        print(\"Error return {0}\".format(e))\n",
    "        \n",
    "speechToText()"
   ]
  },
  {
   "cell_type": "code",
   "execution_count": null,
   "id": "b43c9c7f",
   "metadata": {},
   "outputs": [],
   "source": []
  },
  {
   "cell_type": "code",
   "execution_count": null,
   "id": "bcbf03f9",
   "metadata": {},
   "outputs": [],
   "source": []
  }
 ],
 "metadata": {
  "kernelspec": {
   "display_name": "Python 3 (ipykernel)",
   "language": "python",
   "name": "python3"
  },
  "language_info": {
   "codemirror_mode": {
    "name": "ipython",
    "version": 3
   },
   "file_extension": ".py",
   "mimetype": "text/x-python",
   "name": "python",
   "nbconvert_exporter": "python",
   "pygments_lexer": "ipython3",
   "version": "3.9.7"
  }
 },
 "nbformat": 4,
 "nbformat_minor": 5
}
